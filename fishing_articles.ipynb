{
 "cells": [
  {
   "cell_type": "markdown",
   "metadata": {},
   "source": [
    "### DF-IDF 예시\n",
    "성경욱 검토 완료, 현재 소스코드는 정상 동작함"
   ]
  },
  {
   "cell_type": "code",
   "execution_count": 2,
   "metadata": {},
   "outputs": [],
   "source": [
    "from newspaper import Article # crawl newapaper\n",
    "from konlpy.tag import Komoran # parse title\n",
    "from konlpy.tag import Twitter # tf-idf\n",
    "from collections import Counter\n",
    "from operator import eq\n",
    "import math # calcurate\n",
    "import numpy as np\n",
    "import feedparser # crawl rss\n",
    "komoran = Komoran()\n",
    "\n",
    "urls = (\n",
    "    \"https://rss.joins.com/sonagi/joins_sonagi_sports_list.xml\"  # 중앙일보 : 많이본뉴스 스포츠\n",
    "    , \"https://rss.joins.com/sonagi/joins_sonagi_star_list.xml\"  # 중앙일보 : 많이본뉴스 연예\n",
    "    , \"https://rss.joins.com/sonagi/joins_sonagi_life_list.xml\"  # 중앙일보 : 많이본뉴스 사회\n",
    "    , None\n",
    ")"
   ]
  },
  {
   "cell_type": "code",
   "execution_count": 3,
   "metadata": {},
   "outputs": [],
   "source": [
    "#=========================\n",
    "# rss 에서 기사제목과 기사링크를 추출하는 함수\n",
    "#=========================\n",
    "def crawl_rss(urls):\n",
    "\n",
    "    n = []\n",
    "    for url in urls:\n",
    "        print(\"[crawl rss] \",url)\n",
    "        d = feedparser.parse(url)\n",
    "        for e in d.entries:\n",
    "            n.append({'title':e.title, 'link':e.link})\n",
    "    return n\n"
   ]
  },
  {
   "cell_type": "code",
   "execution_count": 4,
   "metadata": {},
   "outputs": [],
   "source": [
    "#=========================\n",
    "# url 에서 기사제목과 기사본문을 추출하는 함수\n",
    "#=========================\n",
    "def crawl_article(url, language='ko'):\n",
    "    print(\"[crawl article] \",url)\n",
    "    a = Article(url, language=language) #언어가 한국어이므로 language='ko'로 설정\n",
    "    a.download()\n",
    "    a.parse()\n",
    "    return a.title, a.text\n"
   ]
  },
  {
   "cell_type": "code",
   "execution_count": 5,
   "metadata": {},
   "outputs": [],
   "source": [
    "# ================================ get_tags =======================================\n",
    "# OBJECTIVES: 1. calculate the list of noun and count\n",
    "#             2. calculate the number of each unique word\n",
    "#             3. calculate the number of count of most frequent word\n",
    "def get_tags(text, ntags=50):\n",
    "    spliter = Twitter()\n",
    "    Num_unique_words = 0            # THE NUMBER OF UNIQUE WORD\n",
    "    Num_most_frequent = 0           # THE NUMBER OF THE MOST FREQUENT WORD IN A DOCUMENT\n",
    "    nouns = spliter.nouns(text)     # nouns 함수를 통해서 text에서 명사만 분리/추출\n",
    "\n",
    "    count = Counter(nouns)          # count : entire number of words in text file\n",
    "                                    # Counter객체를 생성하고 참조변수 nouns할당\n",
    "    return_list = []                # 명사 빈도수 저장할 변수\n",
    "\n",
    "    for n, c in count.most_common(ntags):\n",
    "        temp = {'tag': n, 'count': c}\n",
    "        return_list.append(temp)\n",
    "        Num_unique_words = Num_unique_words+1\n",
    "        if Num_unique_words == 1:\n",
    "            Num_most_frequent = c\n",
    "\n",
    "    # most_common 메소드는 정수를 입력받아 객체 안의 명사중 빈도수\n",
    "    # 큰 명사부터 순서대로 입력받은 정수 갯수만큼 저장되어있는 객체 반환\n",
    "    # 명사와 사용된 갯수를 return_list에 저장합니다.\n",
    "\n",
    "    return Num_unique_words, Num_most_frequent, return_list"
   ]
  },
  {
   "cell_type": "code",
   "execution_count": 6,
   "metadata": {},
   "outputs": [],
   "source": [
    "# ================================ TF calculation =================================\n",
    "# ARGS : request   : Request string\n",
    "#        most_freq : The number of words which is the most frequent in the document (document 'tag')\n",
    "#        tag       : Target document\n",
    "def TF(request, most_freq, tag):\n",
    "    # tf calculation:\n",
    "    # tf(t, d) = 0.5 + 0.5*f(t,d)/most_freq(d)\n",
    "    return 0.5 + 0.5*Howmanywords(request, tag)/most_freq\n"
   ]
  },
  {
   "cell_type": "code",
   "execution_count": 7,
   "metadata": {},
   "outputs": [],
   "source": [
    "# =============================== IDF calculation =================================\n",
    "# OBJECTIVES: return IDF value which represents the importance of string in range of\n",
    "#             entire set of documents\n",
    "# ARGS : Num_of_docs       : Total number of documents in corpus\n",
    "#        request           : Request string\n",
    "#        List_tags  : Set of documents\n",
    "def IDF(request, List_tags):\n",
    "    Num_of_docs = len(List_tags)\n",
    "    # <idf calculation>\n",
    "    # idf(t, D) = log(Num_of_docs/1+num_of_documents_including_request)\n",
    "    \n",
    "    # Number of documents which includes the 'request'\n",
    "    Num_of_Docs_includes_request = 0\n",
    "\n",
    "    # count how many documents which includes the 'request'\n",
    "    for n in List_tags:\n",
    "        for i in n:\n",
    "            noun = i['tag']\n",
    "            if eq(noun, request):\n",
    "                Num_of_Docs_includes_request = Num_of_Docs_includes_request + 1\n",
    "                continue\n",
    "\n",
    "    # finally get the total number of num_of_documents_including_request\n",
    "    # return the IDF value\n",
    "    return math.log10(Num_of_docs/(0.001+Num_of_Docs_includes_request))"
   ]
  },
  {
   "cell_type": "code",
   "execution_count": 21,
   "metadata": {},
   "outputs": [],
   "source": [
    "# ================================ Howmanywords ===================================\n",
    "# OBJECTIVES: return how many the 'request' is exists in document.\n",
    "# ARGS : request : represents the request\n",
    "#        tag\n",
    "def Howmanywords(request, tag):\n",
    "    noWords = 0\n",
    "    for n in tag:\n",
    "        noun = n['tag']\n",
    "        count = n['count']\n",
    "        if eq(noun, request):\n",
    "            return count\n",
    "    # if there are not any 'request' in the document, then return 0\n",
    "    return noWords\n"
   ]
  },
  {
   "cell_type": "code",
   "execution_count": 9,
   "metadata": {},
   "outputs": [],
   "source": [
    "#=========================\n",
    "# Cosine Similarity\n",
    "#=========================\n",
    "def cos_sim(a, b):\n",
    "    dot_product = np.dot(a, b)\n",
    "    norm_a = np.linalg.norm(a)\n",
    "    norm_b = np.linalg.norm(b)\n",
    "    return dot_product / (norm_a * norm_b)\n"
   ]
  },
  {
   "cell_type": "markdown",
   "metadata": {},
   "source": [
    "## Main"
   ]
  },
  {
   "cell_type": "code",
   "execution_count": 22,
   "metadata": {
    "scrolled": true
   },
   "outputs": [
    {
     "name": "stdout",
     "output_type": "stream",
     "text": [
      "[crawl rss]  https://rss.joins.com/sonagi/joins_sonagi_sports_list.xml\n",
      "[crawl rss]  https://rss.joins.com/sonagi/joins_sonagi_star_list.xml\n",
      "[crawl rss]  https://rss.joins.com/sonagi/joins_sonagi_life_list.xml\n",
      "[crawl rss]  None\n",
      "[crawl article]  http://article.joins.com/news/article/article.asp?total_id=23071830&cloc=rss|most_view|sports\n",
      "[crawl article]  http://article.joins.com/news/article/article.asp?total_id=23071586&cloc=rss|most_view|sports\n",
      "[crawl article]  http://article.joins.com/news/article/article.asp?total_id=23071411&cloc=rss|most_view|sports\n",
      "[crawl article]  http://article.joins.com/news/article/article.asp?total_id=23071306&cloc=rss|most_view|sports\n",
      "[crawl article]  http://article.joins.com/news/article/article.asp?total_id=23071734&cloc=rss|most_view|sports\n",
      "[crawl article]  http://article.joins.com/news/article/article.asp?total_id=23071703&cloc=rss|most_view|sports\n",
      "[crawl article]  http://article.joins.com/news/article/article.asp?total_id=23071394&cloc=rss|most_view|sports\n",
      "[crawl article]  http://article.joins.com/news/article/article.asp?total_id=23071829&cloc=rss|most_view|sports\n",
      "[crawl article]  http://article.joins.com/news/article/article.asp?total_id=23072571&cloc=rss|most_view|sports\n",
      "[crawl article]  http://article.joins.com/news/article/article.asp?total_id=23072058&cloc=rss|most_view|sports\n",
      "[crawl article]  http://article.joins.com/news/article/article.asp?total_id=23072309&cloc=rss|most_view|sports\n",
      "[crawl article]  http://article.joins.com/news/article/article.asp?total_id=23072477&cloc=rss|most_view|sports\n",
      "[crawl article]  http://article.joins.com/news/article/article.asp?total_id=23071674&cloc=rss|most_view|sports\n",
      "[crawl article]  http://article.joins.com/news/article/article.asp?total_id=23072361&cloc=rss|most_view|sports\n",
      "[crawl article]  http://article.joins.com/news/article/article.asp?total_id=23072110&cloc=rss|most_view|sports\n",
      "[crawl article]  http://article.joins.com/news/article/article.asp?total_id=23072387&cloc=rss|most_view|sports\n",
      "[crawl article]  http://article.joins.com/news/article/article.asp?total_id=23071785&cloc=rss|most_view|sports\n",
      "[crawl article]  http://article.joins.com/news/article/article.asp?total_id=23072498&cloc=rss|most_view|sports\n",
      "[crawl article]  http://article.joins.com/news/article/article.asp?total_id=23071939&cloc=rss|most_view|sports\n",
      "[crawl article]  http://article.joins.com/news/article/article.asp?total_id=23072051&cloc=rss|most_view|sports\n",
      "[crawl article]  http://article.joins.com/news/article/article.asp?total_id=23071396&cloc=rss|most_view|sports\n",
      "[crawl article]  http://article.joins.com/news/article/article.asp?total_id=23071626&cloc=rss|most_view|sports\n",
      "[crawl article]  http://article.joins.com/news/article/article.asp?total_id=23071566&cloc=rss|most_view|sports\n",
      "[crawl article]  http://article.joins.com/news/article/article.asp?total_id=23072045&cloc=rss|most_view|sports\n",
      "[crawl article]  http://article.joins.com/news/article/article.asp?total_id=23072390&cloc=rss|most_view|sports\n",
      "[crawl article]  http://article.joins.com/news/article/article.asp?total_id=23072187&cloc=rss|most_view|sports\n",
      "[crawl article]  http://article.joins.com/news/article/article.asp?total_id=23071442&cloc=rss|most_view|sports\n",
      "[crawl article]  http://article.joins.com/news/article/article.asp?total_id=23072482&cloc=rss|most_view|sports\n",
      "[crawl article]  http://article.joins.com/news/article/article.asp?total_id=23072483&cloc=rss|most_view|sports\n",
      "[crawl article]  http://article.joins.com/news/article/article.asp?total_id=23072576&cloc=rss|most_view|sports\n",
      "[crawl article]  http://article.joins.com/news/article/article.asp?total_id=23071314&cloc=rss|most_view|ent_sports\n",
      "[crawl article]  http://article.joins.com/news/article/article.asp?total_id=23071300&cloc=rss|most_view|ent_sports\n",
      "[crawl article]  http://article.joins.com/news/article/article.asp?total_id=23071386&cloc=rss|most_view|ent_sports\n",
      "[crawl article]  http://article.joins.com/news/article/article.asp?total_id=23071679&cloc=rss|most_view|ent_sports\n",
      "[crawl article]  http://article.joins.com/news/article/article.asp?total_id=23071301&cloc=rss|most_view|ent_sports\n",
      "[crawl article]  http://article.joins.com/news/article/article.asp?total_id=23071665&cloc=rss|most_view|ent_sports\n",
      "[crawl article]  http://article.joins.com/news/article/article.asp?total_id=23071414&cloc=rss|most_view|ent_sports\n",
      "[crawl article]  http://article.joins.com/news/article/article.asp?total_id=23071302&cloc=rss|most_view|ent_sports\n",
      "[crawl article]  http://article.joins.com/news/article/article.asp?total_id=23072064&cloc=rss|most_view|ent_sports\n",
      "[crawl article]  http://article.joins.com/news/article/article.asp?total_id=23072205&cloc=rss|most_view|ent_sports\n",
      "[crawl article]  http://article.joins.com/news/article/article.asp?total_id=23072348&cloc=rss|most_view|ent_sports\n",
      "[crawl article]  http://article.joins.com/news/article/article.asp?total_id=23071406&cloc=rss|most_view|ent_sports\n",
      "[crawl article]  http://article.joins.com/news/article/article.asp?total_id=23071683&cloc=rss|most_view|ent_sports\n",
      "[crawl article]  http://article.joins.com/news/article/article.asp?total_id=23071395&cloc=rss|most_view|ent_sports\n",
      "[crawl article]  http://article.joins.com/news/article/article.asp?total_id=23071362&cloc=rss|most_view|ent_sports\n",
      "[crawl article]  http://article.joins.com/news/article/article.asp?total_id=23072597&cloc=rss|most_view|ent_sports\n",
      "[crawl article]  http://article.joins.com/news/article/article.asp?total_id=23072315&cloc=rss|most_view|ent_sports\n",
      "[crawl article]  http://article.joins.com/news/article/article.asp?total_id=23072285&cloc=rss|most_view|ent_sports\n",
      "[crawl article]  http://article.joins.com/news/article/article.asp?total_id=23072025&cloc=rss|most_view|ent_sports\n",
      "[crawl article]  http://article.joins.com/news/article/article.asp?total_id=23071385&cloc=rss|most_view|ent_sports\n",
      "[crawl article]  http://article.joins.com/news/article/article.asp?total_id=23071505&cloc=rss|most_view|ent_sports\n",
      "[crawl article]  http://article.joins.com/news/article/article.asp?total_id=23071511&cloc=rss|most_view|ent_sports\n",
      "[crawl article]  http://article.joins.com/news/article/article.asp?total_id=23072186&cloc=rss|most_view|ent_sports\n",
      "[crawl article]  http://article.joins.com/news/article/article.asp?total_id=23072595&cloc=rss|most_view|ent_sports\n",
      "[crawl article]  http://article.joins.com/news/article/article.asp?total_id=23071363&cloc=rss|most_view|ent_sports\n",
      "[crawl article]  http://article.joins.com/news/article/article.asp?total_id=23071429&cloc=rss|most_view|ent_sports\n",
      "[crawl article]  http://article.joins.com/news/article/article.asp?total_id=23071430&cloc=rss|most_view|ent_sports\n",
      "[crawl article]  http://article.joins.com/news/article/article.asp?total_id=23071465&cloc=rss|most_view|ent_sports\n",
      "[crawl article]  http://article.joins.com/news/article/article.asp?total_id=23071483&cloc=rss|most_view|ent_sports\n",
      "[crawl article]  http://article.joins.com/news/article/article.asp?total_id=23071484&cloc=rss|most_view|ent_sports\n",
      "[crawl article]  http://article.joins.com/news/article/article.asp?total_id=23071314&cloc=rss|most_view|society\n",
      "[crawl article]  http://article.joins.com/news/article/article.asp?total_id=23071702&cloc=rss|most_view|society\n",
      "[crawl article]  http://article.joins.com/news/article/article.asp?total_id=23071658&cloc=rss|most_view|society\n",
      "[crawl article]  http://article.joins.com/news/article/article.asp?total_id=23071538&cloc=rss|most_view|society\n",
      "[crawl article]  http://article.joins.com/news/article/article.asp?total_id=23071325&cloc=rss|most_view|society\n",
      "[crawl article]  http://article.joins.com/news/article/article.asp?total_id=23071490&cloc=rss|most_view|society\n",
      "[crawl article]  http://article.joins.com/news/article/article.asp?total_id=23071712&cloc=rss|most_view|society\n",
      "[crawl article]  http://article.joins.com/news/article/article.asp?total_id=23071312&cloc=rss|most_view|society\n",
      "[crawl article]  http://article.joins.com/news/article/article.asp?total_id=23071408&cloc=rss|most_view|society\n",
      "[crawl article]  http://article.joins.com/news/article/article.asp?total_id=23072021&cloc=rss|most_view|society\n",
      "[crawl article]  http://article.joins.com/news/article/article.asp?total_id=23071295&cloc=rss|most_view|society\n"
     ]
    },
    {
     "name": "stdout",
     "output_type": "stream",
     "text": [
      "[crawl article]  http://article.joins.com/news/article/article.asp?total_id=23072310&cloc=rss|most_view|society\n",
      "[crawl article]  http://article.joins.com/news/article/article.asp?total_id=23071954&cloc=rss|most_view|society\n",
      "[crawl article]  http://article.joins.com/news/article/article.asp?total_id=23071641&cloc=rss|most_view|society\n",
      "[crawl article]  http://article.joins.com/news/article/article.asp?total_id=23071689&cloc=rss|most_view|society\n",
      "[crawl article]  http://article.joins.com/news/article/article.asp?total_id=23072475&cloc=rss|most_view|society\n",
      "[crawl article]  http://article.joins.com/news/article/article.asp?total_id=23071871&cloc=rss|most_view|society\n",
      "[crawl article]  http://article.joins.com/news/article/article.asp?total_id=23072138&cloc=rss|most_view|society\n",
      "[crawl article]  http://article.joins.com/news/article/article.asp?total_id=23072020&cloc=rss|most_view|society\n",
      "[crawl article]  http://article.joins.com/news/article/article.asp?total_id=23071684&cloc=rss|most_view|society\n",
      "[crawl article]  http://article.joins.com/news/article/article.asp?total_id=23072314&cloc=rss|most_view|society\n",
      "[crawl article]  http://article.joins.com/news/article/article.asp?total_id=23071410&cloc=rss|most_view|society\n",
      "[crawl article]  http://article.joins.com/news/article/article.asp?total_id=23072340&cloc=rss|most_view|society\n",
      "[crawl article]  http://article.joins.com/news/article/article.asp?total_id=23072339&cloc=rss|most_view|society\n",
      "[crawl article]  http://article.joins.com/news/article/article.asp?total_id=23071491&cloc=rss|most_view|society\n",
      "[crawl article]  http://article.joins.com/news/article/article.asp?total_id=23071378&cloc=rss|most_view|society\n",
      "[crawl article]  http://article.joins.com/news/article/article.asp?total_id=23071427&cloc=rss|most_view|society\n",
      "[crawl article]  http://article.joins.com/news/article/article.asp?total_id=23071706&cloc=rss|most_view|society\n",
      "[crawl article]  http://article.joins.com/news/article/article.asp?total_id=23072500&cloc=rss|most_view|society\n",
      "[crawl article]  http://article.joins.com/news/article/article.asp?total_id=23071870&cloc=rss|most_view|society\n",
      "[parse title]\n"
     ]
    }
   ],
   "source": [
    "# 1. rss에서 기사제목과 링크 목록을 가져온다.\n",
    "article_list = crawl_rss(urls) #[:10]\n",
    "\n",
    "# 2. 기사 링크에서 기사본문을 가져옴\n",
    "for atricle in article_list:\n",
    "    _, text = crawl_article(atricle['link'])\n",
    "    atricle['text'] = text\n",
    "\n",
    "# 3. 기사 제목 파싱\n",
    "print('[parse title]')\n",
    "noun_title = [komoran.nouns(a['title']) for a in article_list]\n"
   ]
  },
  {
   "cell_type": "code",
   "execution_count": 23,
   "metadata": {
    "scrolled": true
   },
   "outputs": [
    {
     "data": {
      "text/plain": [
       "[['트럼프', '비판', '논란', '로버츠', '용병', '술'],\n",
       " ['폭설', '파란', '잔디밭', '축구', '장현수', '봉사', '활동', '자료', '조작', '인정'],\n",
       " ['레스터', '시티', '구단주', '소유', '헬기', '추락', '사고', '수습', '중'],\n",
       " ['가을', '남자', '박정권', '힘'],\n",
       " ['다저스', '승', '패', '벼랑', '끝', '류현진', '등판', '불투명'],\n",
       " ['괴물', '장', '타자', '카', '메로', '챔프', '입성', '경기만', '우승', '눈앞'],\n",
       " ['호날두', '멀티', '골', '연속', '무패'],\n",
       " ['김연아', '후', '메달', '차준환', '태극기', '세리머니', '이유'],\n",
       " ['넥센', '샌즈', '김성현', '충돌', '손가락', '욕', '진실'],\n",
       " ['차전', '벤', '치클', '리어', '링', '플레이오프']]"
      ]
     },
     "execution_count": 23,
     "metadata": {},
     "output_type": "execute_result"
    }
   ],
   "source": [
    "noun_title[:10]"
   ]
  },
  {
   "cell_type": "code",
   "execution_count": 13,
   "metadata": {},
   "outputs": [
    {
     "data": {
      "text/plain": [
       "[{'link': 'http://article.joins.com/news/article/article.asp?total_id=23071830&cloc=rss|most_view|sports',\n",
       "  'text': '트럼프도 공개적으로 용병술에 대한 지적을 날렸다. 월드시리즈 1승3패로 몰린 데이브 로버츠 LA 다저스 감독의 투수 기용이 큰 비판을 받고 있다.도덜드 트럼프 미국 대통령은 28일(한국시간) 소셜 미디어에 \"다저스와 보스턴의 월드시리즈 마지막 이닝을 보고 있다. 거의 7회를 압도적으로 막은 선발투수 리치 힐을 내리고 흠씬 두들겨 맞은 구원 투수(라이언 매드슨 또는 켄리 잰슨)를 올리다니 정말 놀랍다. 4점 리드가 날아갔다. 감독이 큰 실수를 했다\"고 적었다.트럼프 대통령은 보스턴의 라이벌 팀인 뉴욕 양키스 팬이다. 자신의 SNS에 \"나는 오랫동안 양키스의 팬이다(I am a long time Yankee fan)\"라고 드러내기도 했다. 마리아노 리베라, 폴 오닐 등 레전드 스타들에 대한 애정들 드러낸 적도 있다. 양키스가 마이애미 말린스 출신 거포 지안카를로 스탠턴을 영입했을 때도 \"그는 정말 잘 해낼 것\"이라고 반가워했다.다저스는 이날 월드시리즈 4차전 6회 말 선제점을 뽑은 데 이어 야시엘 푸이그가 3점 홈런을 쳐 4-0으로 앞서갔다. 선발투수 리치 힐은 6회까지 안타 1개, 볼넷 2개만 주며 무실점으로 막았다. 7회 선두타자 잰더 보가츠에게 볼넷을 줬지만 다음 타자 에두아르도 누네스를 삼진으로 잡았다. 하지만 마운드에 오른 로버츠 감독은 힐을 내리고 투수를 스캇 알렉산더로 교체했다.알렉산더는 볼넷을 줬고, 로버츠 감독은 다시 매드슨으로 투수를 교체했다. 매드슨은 재키 브래들리 주니어를 2루수 플라이로 처리했으나 미치 모어랜드에게 3점포를 맞았다. 8회엔 마무리 잰슨을 조기등판시켰으나 스티브 피어스에게 동점포를 내줬다. 마무리 투수가 월드시리즈에서 2경기 연속 홈런을 내준 건 2001년 김병현(당시 애리조나) 이후 17년 만이다. 다저스는 결국 9회 초 5점을 내주고 9-6으로 역전패했다. 1승3패로 몰린 다저스는 남은 3경기 중 한 번만 지면 2년 연속 준우승에 머무르게 된다.김효경 기자 kaypubb@joongang.co.kr',\n",
       "  'title': '트럼프도 SNS로 비판, 논란 일으킨 로버츠 용병술'},\n",
       " {'link': 'http://article.joins.com/news/article/article.asp?total_id=23071586&cloc=rss|most_view|sports',\n",
       "  'text': '병역특례 체육요원으로 대체복무 중인 축구 국가대표 선수 장현수가 봉사활동 증빙서류를 조작한 사실을 인정했다.국회 국방위원회 소속 바른미래당 하태경 의원은 28일 “장 선수 측이 27일 문화체육관광부를 통해 ‘봉사활동 실적을 부풀렸다’는 입장을 전했다”고 밝혔다. 앞서 장 선수는 봉사활동은 사실이나 자료가 착오로 제출됐다며 의혹을 부인했으나 문체부의 현장조사 방침에 입장을 번복했다.현행법상 병역특례를 받은 체육선수들은 체육요원으로 편입돼 34개월 동안 해당 분야의 특기 활동을 하는 대신 청소년이나 미취학 아동 등을 대상으로 544시간 동안 봉사활동을 하고 그 실적을 관계 기관에 증빙해야 한다. 장현수는 2014 인천아시안게임 축구 종목에서 금메달을 획득하며 체육요원으로 편입해 대체복무 중이다.하 의원은 지난 23일 병무청을 대상으로 한 국감에서 체육‧예술 요원의 대체복무 실태를 지적하며 “현직 국가대표 축구선수 J씨의 봉사활동 허위 조작이 발견됐다”고 폭로했다.하 의원이 병무청과 문체부를 통해 확보한 자료에 따르면 장현수는 2017년 12월부터 약 2개월간 모교 학생들을 대상으로 훈련을 진행하는 등 총 196시간의 봉사활동을 했다는 증빙 서류를 제출했다.그러나 대설주의보가 발령된 2017년 12월 18일 폭설로 운동장이 온통 눈밭이었는데도 깨끗한 운동장에서 훈련한 사진을 제출했다.또 구름 모양, 축구 장비 위치, 인상착의 등을 미뤄 볼 때 같은 날 여러 장 찍은 것으로 의심되는 사진을 다른 날 봉사 활동했다고 제출하는 등의 정황도 발견됐다.병역법에 따르면 봉사활동 실적을 허위로 증빙할 경우 경고 및 5일 복무연장 처분의 징계를 받는다. 경고 처분을 8회 이상 받으면 1년 이하의 징역에 처하고 있으나, 실제 이런 극단적 상황까지 가는 일은 전무하다고 하 의원은 설명했다.문체부는 장현수에 대한 확인조사를 거쳐 병역법에 따른 경고처분을 할 예정이며 체육요원 봉사활동 운영 전반에 대한 실태조사와 제도개선 방안을 마련할 계획이라고 밝혔다.이와 별도로 하 의원은 대한축구협회에 공무 증빙서류를 허위로 작성해 제출한 장현수의 징계 검토 절차를 요청한 상황이다.하 의원은 “일부 비양심적인 예술‧체육요원의 부실한 증빙과 허술한 관리‧감독 때문에 병역특례제도의 순수한 목적과 취지가 많이 훼손됐다”며 “불미스러운 일이 다시는 발생하지 않도록 관련 법 제도를 정비하고 위반 행위는 모든 수단을 동원해 끝까지 쫓아 엄벌하겠다”고 밝혔다.이가영 기자 lee.gayoung1@joongang.co.kr',\n",
       "  'title': \"'폭설에 파란 잔디밭에서 축구를?' 장현수, 봉사활동 자료 조작 인정\"}]"
      ]
     },
     "execution_count": 13,
     "metadata": {},
     "output_type": "execute_result"
    }
   ],
   "source": [
    "article_list[:2]"
   ]
  },
  {
   "cell_type": "code",
   "execution_count": 14,
   "metadata": {},
   "outputs": [
    {
     "name": "stdout",
     "output_type": "stream",
     "text": [
      "[parse text]\n"
     ]
    },
    {
     "name": "stderr",
     "output_type": "stream",
     "text": [
      "C:\\ProgramData\\Anaconda3\\envs\\TF\\lib\\site-packages\\konlpy\\tag\\_okt.py:16: UserWarning: \"Twitter\" has changed to \"Okt\" since KoNLPy v0.4.5.\n",
      "  warn('\"Twitter\" has changed to \"Okt\" since KoNLPy v0.4.5.')\n"
     ]
    }
   ],
   "source": [
    "# 4. 기사 본문 파싱\n",
    "print('[parse text]')\n",
    "noun_text = []\n",
    "for a in article_list:\n",
    "    num_unique_words, num_most_frequent, tag = get_tags(a['text'])\n",
    "    noun_text.append({'num_unique_words':num_unique_words, 'num_most_frequent':num_most_frequent, 'tags':tag})"
   ]
  },
  {
   "cell_type": "code",
   "execution_count": 15,
   "metadata": {},
   "outputs": [
    {
     "name": "stdout",
     "output_type": "stream",
     "text": [
      "===[TF-IDF values]==========================================================================================\n",
      "[[1.563046745568005, 0.9769042159800031, 0.6275928274458286, 1.322396336642491, 2.4771212547196626, 2.4771212547196626], [2.4771212547196626, 2.4771212547196626, 2.4771212547196626, 0.9413892411687428, 1.2000434176367587, 2.4771212547196626, 0.7350118016707676, 0.8450462237877048, 0.9231103212590451, 0.9769042159800031], [1.8316954049625058, 1.7095823779650055, 1.239746565602335, 2.4771212547196626, 1.3432432969725043, 1.3432432969725043, 1.4769765140144722, 2.4771212547196626, 0.5545412158936895], [1.056307779734631, 0.7350118016707676, 1.3520739580603276, 0.5468906710579737], [1.4769765140144722, 0.6760369790301638, 0.6161569065485439, 0.7384882570072361, 0.6275928274458286, 0.9642473288018163, 0.8264977104015567, 2.4771212547196626], [1.1722850591760037, 0.6760369790301638, 0.5880094413366141, 0.7384882570072361, 2.4771212547196626, 1.9538084319600062, 2.4771212547196626, 2.4771212547196626, 0.7056113296039369, 2.4771212547196626], [1.9538084319600062, 0.9769042159800031, 1.814250686820006, 0.6720107900989876, 1.1164619611200035], [0.9231103212590451, 0.6275928274458286, 1.1364343518021405, 2.4771212547196626, 1.587469350967505, 2.4771212547196626, 0.8264977104015567], [0.8021063175516948, 1.2551856548916571, 1.1505868503173524, 2.4771212547196626, 1.239746565602335, 1.7909910626300058, 0.9769042159800031], [2.4771212547196626, 2.4771212547196626, 2.4771212547196626, 2.4771212547196626, 1.0982874480302, 0.5880094413366141], [0.5880094413366141, 1.2856631050690883, 1.0101638682685694, 2.4771212547196626, 0.8264977104015567, 0.6275928274458286, 0.8264977104015567, 1.845263519073339], [1.3676659023720044, 2.4771212547196626, 0.6760369790301638, 0.9016144767161416, 2.4771212547196626, 2.4771212547196626, 0.9769042159800031, 0.6284800446795148, 2.4771212547196626], [0.991797252481868, 2.4771212547196626, 1.322396336642491, 0.8861859084086833, 2.4771212547196626, 0.960034734109407, 0.6679393575137235, 2.4771212547196626, 0.6760369790301638], [0.9769042159800031, 0.8450462237877048, 0.7384882570072361, 1.8316954049625058, 1.9538084319600062, 1.8316954049625058], [0.6275928274458286, 0.9769042159800031, 0.7384882570072361, 2.4771212547196626, 0.9769042159800031, 0.8264977104015567], [0.8402657511494784, 2.4771212547196626, 0.5880094413366141, 0.8264977104015567], [2.4771212547196626, 1.6529954208031135, 0.7500214917366498, 0.8400134876237345, 0.6760369790301638, 2.4771212547196626, 1.06263991337343], [2.4771212547196626, 0.5250150442156547, 2.4771212547196626, 2.4771212547196626, 2.4771212547196626, 0.8786299584241599, 0.8264977104015567, 0.5255491195148931], [2.4771212547196626, 2.4771212547196626, 1.1939940417533372, 2.4771212547196626, 2.4771212547196626, 2.4771212547196626, 1.411083867526671, 1.9538084319600062, 1.1939940417533372], [1.3846654818885678, 0.9295508461664752, 2.4771212547196626, 2.4771212547196626, 0.8450462237877048, 0.7624941718538232, 0.9231103212590451, 0.8629401377380143], [1.2000434176367587, 2.4771212547196626, 0.5880094413366141, 2.4771212547196626, 0.7844910343072857, 0.9231103212590451, 1.221130269975004], [2.4771212547196626, 1.3432432969725043, 1.3520739580603276, 1.3432432969725043, 2.4771212547196626, 0.7499638108036484, 1.033122138001946], [1.4769765140144722, 2.4771212547196626, 1.3025389546400041, 2.4771212547196626, 2.4771212547196626, 0.9769042159800031, 0.40404172691725326, 1.3025389546400041, 1.1019969472020756], [0.9413892411687428, 0.9769042159800031, 0.9231103212590451, 0.6760369790301638, 0.5880094413366141, 2.4771212547196626, 2.4771212547196626, 2.4771212547196626, 1.0982874480302], [1.3520739580603276, 1.3774961840025943, 2.4771212547196626, 2.4771212547196626, 0.9769042159800031, 2.4771212547196626], [2.4771212547196626, 0.5833500491285053, 0.40404172691725326, 1.1760188826732283, 0.9762555093601778, 0.9764978585991255, 1.1939940417533372], [2.4771212547196626, 1.3520739580603276, 0.33680921972168465, 1.0140554685452456, 0.8264977104015567], [2.4771212547196626, 0.875025073692758, 1.0990172429775036, 1.4653563239700047, 0.36741982477168045], [2.4771212547196626, 0.9769042159800031, 0.9769042159800031, 0.6760369790301638, 0.9769042159800031], [2.4771212547196626, 0.9231103212590451, 0.7844910343072857, 2.4771212547196626, 0.437512536846379, 0.8402657511494784], [0.991797252481868, 2.4771212547196626, 0.8264977104015567, 2.4771212547196626, 1.5703456497629578, 0.991797252481868, 0.6275928274458286, 2.4771212547196626, 0.8264977104015567], [0.6973253638286985, 1.4359493886251813, 2.4771212547196626, 0.9183307893350631, 2.4771212547196626, 1.0101638682685694, 2.4771212547196626, 1.4693292629361008, 1.5152458024028541, 1.4693292629361008, 1.4359493886251813], [0.5255491195148931, 1.6529954208031135, 1.1722850591760037, 0.9769042159800031, 1.7584275887640055, 1.0584169944059054], [0.6760369790301638, 2.4771212547196626, 1.0669078066579085, 0.9413892411687428, 0.6760369790301638, 2.4771212547196626, 1.109082431787379], [1.198131761487491, 2.4771212547196626, 0.7832451210682807, 2.4771212547196626, 2.4771212547196626, 0.8765884807289238], [0.6760369790301638, 2.4771212547196626, 1.026970081274992, 2.4771212547196626, 1.109082431787379, 0.8264977104015567, 1.1270423323657592, 0.8558084010624936, 2.4771212547196626], [1.4209515868800044, 1.6873800094200053, 2.4771212547196626, 0.6817852825487714, 1.1545231643400038, 2.4771212547196626, 2.4771212547196626], [1.0420311637120032, 0.8615696331751088, 2.4771212547196626, 2.4771212547196626, 2.4771212547196626, 2.4771212547196626, 2.4771212547196626, 2.4771212547196626], [1.1164619611200035, 0.21785770466099422, 1.1807110148593667, 0.7384882570072361, 1.3955774514000046, 2.4771212547196626, 2.4771212547196626, 1.6529954208031135, 1.2560197062600038], [2.4771212547196626, 2.4771212547196626, 1.9538084319600062, 1.7095823779650055], [1.3025389546400041, 2.4771212547196626, 1.4653563239700047, 1.9538084319600062, 1.1397215853100038, 1.3025389546400041, 0.9642473288018163, 1.9538084319600062, 2.4771212547196626], [2.4771212547196626, 2.4771212547196626, 1.2551856548916571, 1.0041485239133257, 2.4771212547196626, 2.4771212547196626, 0.8872659454299033, 2.4771212547196626], [1.2551856548916571, 0.8450462237877048, 0.9769042159800031, 1.0982874480302, 0.8307992891331406, 0.8318118238405343], [1.4168532178312403, 0.5255491195148931, 1.6746929416800054, 1.2560197062600038, 1.9538084319600062, 1.2560197062600038, 0.31600126725408645, 2.4771212547196626], [2.4771212547196626, 2.4771212547196626, 0.7384882570072361, 1.2433326385200039, 1.3321421127000044, 0.9769042159800031], [2.4771212547196626, 2.4771212547196626, 2.4771212547196626, 2.4771212547196626, 2.4771212547196626, 2.4771212547196626], [2.4771212547196626, 2.4771212547196626, 1.5351351965400049, 1.2987821163453035, 1.1807110148593667, 1.1604815467256566, 0.7384882570072361], [0.5255491195148931, 0.6361327214416415, 1.2551856548916571, 1.3538951378465995, 1.7909910626300058, 0.9769042159800031, 0.9013826387068851, 2.4771212547196626], [1.4463709932027242, 1.7095823779650055, 1.7095823779650055, 0.8820141620049212, 2.4771212547196626], [1.1862408336900037, 0.6602088044745902, 0.9769042159800031, 1.1164619611200035, 2.4771212547196626, 2.4771212547196626, 2.4771212547196626], [2.4771212547196626, 2.4771212547196626, 1.9538084319600062, 0.9769042159800031, 1.4653563239700047, 2.4771212547196626, 2.4771212547196626, 2.4771212547196626, 0.8264977104015567, 1.0140554685452456], [2.4771212547196626, 0.24591476806338716, 1.9023924205926375, 1.593896352388426, 0.6779835583785916, 0.6779835583785916, 1.131152250082109, 0.9569973488860131, 0.6779835583785916, 2.4771212547196626, 0.9569973488860131], [1.2551856548916571, 0.9699161878708259, 2.4771212547196626, 0.6688806975644095, 0.7989527933992845, 0.8264977104015567, 2.4771212547196626, 2.4771212547196626], [2.4771212547196626, 2.4771212547196626, 0.8264977104015567, 0.8264977104015567, 0.7384882570072361], [2.4771212547196626, 2.4771212547196626, 2.4771212547196626, 1.1600737564762538, 0.9814660311018486, 1.6529954208031135], [1.2560197062600038, 1.9538084319600062, 0.46527945562167833, 1.5351351965400049, 1.1604815467256566, 2.4771212547196626], [2.4771212547196626, 0.9769042159800031, 2.4771212547196626, 0.9769042159800031, 0.6760369790301638], [2.4771212547196626, 2.4771212547196626, 2.4771212547196626, 0.8264977104015567, 0.9769042159800031, 0.9769042159800031, 2.4771212547196626, 0.9769042159800031, 0.6760369790301638], [2.4771212547196626, 1.08544912886667, 1.9538084319600062, 2.4771212547196626, 2.4771212547196626, 0.8205425077858179, 0.9769042159800031], [2.4771212547196626, 2.4771212547196626, 2.4771212547196626, 2.4771212547196626, 0.9769042159800031, 1.9538084319600062, 1.1545231643400038, 2.4771212547196626, 0.7989527933992845], [0.991797252481868, 2.4771212547196626, 0.8264977104015567, 2.4771212547196626, 1.5703456497629578, 0.991797252481868, 0.6275928274458286, 2.4771212547196626, 0.8264977104015567], [0.9769042159800031, 2.4771212547196626, 1.1332088905368036, 0.991797252481868, 2.4771212547196626, 2.4771212547196626], [2.4771212547196626, 1.8316954049625058, 1.221130269975004, 0.9769042159800031, 2.4771212547196626], [0.9769042159800031, 0.9769042159800031, 2.4771212547196626, 0.6760369790301638, 0.8264977104015567, 0.9769042159800031, 0.9769042159800031], [2.4771212547196626, 1.3520739580603276, 1.8090818814444503, 2.4771212547196626, 1.1939940417533372, 0.2985457434243254, 2.4771212547196626, 1.4834471427844493], [1.1722850591760037, 1.239746565602335, 0.9769042159800031, 0.8112443748361965, 1.269975480774004, 0.991797252481868, 0.991797252481868, 1.0041485239133257, 0.9769042159800031, 2.4771212547196626], [1.604914069110005, 0.9769042159800031, 1.3955774514000046, 1.9538084319600062, 0.516977172912976, 1.1216754641163984, 2.4771212547196626, 0.7726136903201871, 0.8264977104015567], [2.4771212547196626, 1.7283689975030823, 0.45220901510360667, 0.4847687025862375, 1.3526366067415427, 1.9538084319600062], [2.4771212547196626, 2.4771212547196626, 2.4771212547196626, 2.4771212547196626, 2.4771212547196626, 0.9769042159800031], [1.3520739580603276, 0.976770021383658, 1.2433326385200039, 0.9769042159800031, 1.1545231643400038, 1.3321421127000044, 1.1545231643400038], [2.4771212547196626, 0.5255491195148931, 0.8521018350083492, 0.9769042159800031, 1.335111686033284, 0.9769042159800031], [1.2774901285892348, 2.4771212547196626, 2.4771212547196626, 2.4771212547196626, 1.271534939079318, 0.31600126725408645, 1.1271971722846188], [2.4771212547196626, 0.5545412158936895, 1.9538084319600062, 2.4771212547196626, 0.976770021383658], [2.4771212547196626, 1.4325960313626984, 2.4771212547196626, 1.9538084319600062, 1.9538084319600062, 1.1570967945621793, 2.4771212547196626, 2.4771212547196626, 0.8264977104015567], [0.6275928274458286, 1.411083867526671, 2.4771212547196626, 0.9769042159800031, 1.411083867526671, 1.3520739580603276, 1.7367186061866722], [2.4771212547196626, 2.4771212547196626, 1.3432432969725043, 0.9231103212590451, 1.2551856548916571, 1.033122138001946, 2.4771212547196626], [1.4769765140144722, 2.4771212547196626, 0.6275928274458286, 0.5255491195148931, 2.4771212547196626, 0.8264977104015567, 0.633761389592788, 0.8264977104015567, 1.1807110148593667, 0.3734703508474187, 2.4771212547196626], [2.4771212547196626, 2.4771212547196626, 1.1164619611200035, 1.9538084319600062, 1.265979869155262, 2.4771212547196626, 2.4771212547196626, 0.9769042159800031, 0.9769042159800031], [1.248068268978764, 1.202343650436927, 1.3526366067415427, 0.687256540904091, 1.0172279512634546, 1.2774901285892348], [1.221130269975004, 2.4771212547196626, 1.9538084319600062, 1.221130269975004, 1.221130269975004, 1.4653563239700047, 1.9538084319600062], [1.0779632728055206, 1.1116496250806933, 2.4771212547196626, 0.437512536846379, 2.4771212547196626, 0.6275928274458286, 2.4771212547196626], [2.4771212547196626, 0.5255491195148931, 2.4771212547196626, 0.9769042159800031, 1.1270423323657592, 0.9218686077684053, 0.7989527933992845, 1.1270423323657592], [1.4168532178312403, 0.8264977104015567, 0.9769042159800031, 0.7384882570072361, 1.4168532178312403, 0.9494849018664463, 1.3955774514000046, 1.2560197062600038], [2.4771212547196626, 0.8264977104015567, 2.4771212547196626, 0.8264977104015567, 0.5255491195148931, 0.9769042159800031, 0.8307992891331406, 2.4771212547196626], [2.4771212547196626, 0.7531113929349943, 2.4771212547196626, 0.8264977104015567, 2.4771212547196626, 0.6275928274458286, 1.1019969472020756, 2.4771212547196626], [1.0198383445994714, 1.033122138001946, 0.5880094413366141, 2.4771212547196626, 2.4771212547196626, 1.2675693356815572, 1.6529954208031135, 1.4463709932027242, 1.3432432969725043, 1.549683207002919, 0.8264977104015567], [1.7095823779650055, 1.8316954049625058, 1.3432432969725043, 2.4771212547196626, 1.587469350967505, 1.587469350967505, 0.8318118238405343, 1.8316954049625058], [1.9538084319600062, 1.3432432969725043, 2.4771212547196626, 1.0990172429775036, 0.7844910343072857, 1.4653563239700047, 0.8264977104015567, 0.5255491195148931, 2.4771212547196626], [1.3520739580603276, 1.5351351965400049, 0.8264977104015567, 1.5351351965400049, 1.3955774514000046, 1.3955774514000046, 0.6760369790301638, 0.8264977104015567], [0.437512536846379, 2.4771212547196626, 2.4771212547196626, 2.4771212547196626, 0.5880094413366141, 0.9769042159800031, 2.4771212547196626, 0.21785770466099422, 0.9769042159800031, 0.7384882570072361]]\n",
      "===[TF-IDF mean]==========================================================================================\n",
      "TF-IDF :  1.5740304391792754  , title :  트럼프도 SNS로 비판, 논란 일으킨 로버츠 용병술\n",
      "TF-IDF :  1.5529990240381673  , title :  '폭설에 파란 잔디밭에서 축구를?' 장현수, 봉사활동 자료 조작 인정\n",
      "TF-IDF :  1.6059190202024825  , title :  레스터시티 구단주 소유 헬기 추락...사고 수습 중\n",
      "TF-IDF :  0.922571052630925  , title :  '가을 남자' 박정권 \"힘 빼고 즐기면 됩니다\"\n",
      "TF-IDF :  1.05038972224616  , title :  다저스 1승3패 벼랑 끝...류현진 등판 불투명\n",
      "TF-IDF :  1.574272451699261  , title :  괴물 장타자 카메론 챔프, PGA 입성 2경기만에 우승 눈앞\n",
      "TF-IDF :  1.3066872171958013  , title :  ‘호날두 멀티골’ 유벤투스, 엠폴리 잡고 10연속 무패\n",
      "TF-IDF :  1.4364781530450572  , title :  김연아 후 첫 메달…차준환의 태극기 세리머니가 특별한 이유\n",
      "TF-IDF :  1.384663131670387  , title :  넥센 샌즈와 SK 김성현 충돌…'손가락 욕' 진실은?\n",
      "TF-IDF :  1.9324636513742444  , title :  1차전 이어 또다시 벤치클리어링, 불타오르는 플레이오프\n",
      "TF-IDF :  1.185851179589527  , title :  5명 연장에 실수 연발... 집 가려다 피말리게 'KPGA 첫 정상' 오른 박성국\n",
      "TF-IDF :  1.606576293072942  , title :  박결 4년 만에 첫 우승, 최혜용 9년 전 역전패 데자뷰\n",
      "TF-IDF :  1.4373060369272581  , title :  피겨 차준환 그랑프리 2차 동메달, 김연아 이후 9년 만에\n",
      "TF-IDF :  1.362939656443327  , title :  주타누간 자매에 이어 LPGA에서 나란히 웃은 '코르다 자매'\n",
      "TF-IDF :  1.103918080255715  , title :  SK 켈리 4회 1실점 조기 강판, 이유는?\n",
      "TF-IDF :  1.182973539401828  , title :  펑펑펑…또 홈런으로 제압한 SK, 플레이오프 2연승\n",
      "TF-IDF :  1.4194214002866308  , title :  타격 물오른 송성문, 넥센 5번 중심 타선에 기용\n",
      "TF-IDF :  1.5830221064293644  , title :  장정석 감독 \"벤치클리어링으로 흐름 내준 건 아니다\"\n",
      "TF-IDF :  2.0153874062879624  , title :  장애인체육회, 개발도상국 초청 장애인스포츠 개발캠프 개최\n",
      "TF-IDF :  1.3327562115166194  , title :  [WS4]다저스, 불펜 운용에 발목...시리즈 3패 '벼랑 끝'\n",
      "TF-IDF :  1.3815752848505762  , title :  장현수, '봉사활동 확인서 허위조작 시인했다'\n",
      "TF-IDF :  1.5394127157500368  , title :  1차전의 영웅 박정권, 영웅 잡으러 2차전 선발 출전\n",
      "TF-IDF :  1.5551512308392001  , title :  장현수, 11월 호주-우즈벡 평가전 명단 제외\n",
      "TF-IDF :  1.4039001567737506  , title :  [PO] 샌즈의 위험한 슬라이딩, 시리즈 두 번째 벤치클리어링\n",
      "TF-IDF :  1.8563063537003188  , title :  [PO]박병호, 길어지는 침묵...불명예 키플레이어 '부상'\n",
      "TF-IDF :  1.1124684747358986  , title :  [IS 피플] 넥센전 4이닝…끝나지 않은 켈리의 '가을' 징크스\n",
      "TF-IDF :  1.2013115222896955  , title :  [IS 피플] SK 박정권이 말하는 '가을'에 강한 이유\n",
      "TF-IDF :  1.2567879440263217  , title :  [PO] 2연패 넥센, 득점권서 나온 병살타 2개\n",
      "TF-IDF :  1.216774176337967  , title :  현대모비스, 패배 털고 단독 선두 질주\n",
      "TF-IDF :  1.3232703588335855  , title :  [IS 인터뷰] 벼랑 끝에 몰린 장정석 감독 \"홈런 막지 못하면 또 어렵다\"\n",
      "TF-IDF :  1.4739880185705134  , title :  [강병철의 셀럽앤카]⑨이효리 덕에 뜬 박스카 '큐브'···출시 후 빛 못 본 이유\n",
      "TF-IDF :  1.580271535556067  , title :  [오늘의 운세] 10월 28일 일요일(음력 9월 20일/ 띠별·생년월일·금전·건강·애정 운세...\n",
      "TF-IDF :  1.190763066440654  , title :  [이슈IS] 아이유 하차 위기 견뎌낸 '나의 아저씨', 더서울어워즈 대상\n",
      "TF-IDF :  1.3462422781590975  , title :  [현장IS] \"잘 살겠습니다\" 유상무, ♥김연지와 대장암 극복하고 결혼\n",
      "TF-IDF :  1.7148881879072804  , title :  [오늘의 별자리 운세] 2018년 10월 28일 일요일\n",
      "TF-IDF :  1.4503113000090369  , title :  [현장IS] 유상무 \"아파서 결혼 못 할 줄…신부 김연지 고마워\"(일문일답)\n",
      "TF-IDF :  1.7680005439068247  , title :  '숨바꼭질' 엄현경 납치사건 전말 밝혀졌다…혼돈의 카오스\n",
      "TF-IDF :  2.095791040650636  , title :  [주간 운세] 2018년 10월 28일~2018년 11월 3일(음력 9월 20일~9월 26일...\n",
      "TF-IDF :  1.3902615583944498  , title :  \"아우라만 1등\" 아이콘 비아이·바비, '궁민남편' 향해 독설\n",
      "TF-IDF :  2.1544083298410843  , title :  \"사랑한다면 이들처럼\" '뷰티 인사이드' 서현진♥이민기, 물오른 꽁냥꽁냥\n",
      "TF-IDF :  1.6706958356356856  , title :  '복면가왕' 영사기=레인보우 조현영…반전 축음기 2R 진출\n",
      "TF-IDF :  1.9415257997291497  , title :  [투데이IS] 유상무♥김연지, 암 투병 이겨내고 결혼 골인\n",
      "TF-IDF :  0.9730057759438733  , title :  유상무 결혼식 참석한 장동민 \"혼자 남았다…결혼 너무 하고파\"\n",
      "TF-IDF :  1.3595082056849876  , title :  '1박2일' 차태현 \"여행지에 김주혁 흔적 볼 때마다 그리워\"\n",
      "TF-IDF :  1.5408516222744286  , title :  [리뷰IS] '뭉뜬2' 첫방, 현지 패키지로 확실한 변화 꾀했다\n",
      "TF-IDF :  2.4771212547196626  , title :  [화보] 오윤아, 치마 걷어 올리며...'섹시미 폭발'\n",
      "TF-IDF :  1.552548662988127  , title :  '코빅' 김병만·홍현희 남편 제이쓴 깜짝 출연\n",
      "TF-IDF :  1.2396452257164183  , title :  [이슈IS] 이번엔 대놓고 PPL 논란…'나혼자산다' 인기예능의 숙명\n",
      "TF-IDF :  1.644934233171464  , title :  OCN 첫 브랜딩 행사 '스릴러 하우스' 팬心 열기로 '후끈'\n",
      "TF-IDF :  1.6244542256319412  , title :  '플레이어' '그 사람' 정체 드러났다…김종태 소름 유발 엔딩\n",
      "TF-IDF :  1.8622228424455127  , title :  \"예쁜애X예쁜애\" 구구단 개인+단체 개성만점 오피셜 포토 공개\n",
      "TF-IDF :  1.2523221521339714  , title :  BTS, 10월 가수 브랜드평판 1위…2위 블랙핑크·3위 워너원\n",
      "TF-IDF :  1.4938496010358402  , title :  유상무♥김연지 본식 사진 공개 '웃음 가득한 웨딩 마치'\n",
      "TF-IDF :  1.469145237449935  , title :  [화보] 크리스탈, 초미니 입고 다리 꼰 채로..'아찔'\n",
      "TF-IDF :  1.8709831620900343  , title :  [리뷰IS] \"앵앵콜까지\"…'아는형님' 역시 믿고 듣는 아이유\n",
      "TF-IDF :  1.4746409319711689  , title :  [종영] '뜻밖의Q', '무한도전' 후속의 왕관은 무거웠다\n",
      "TF-IDF :  1.5168175840858988  , title :  트와이스, 'YES or YES' 개인 티저 이미지 공개\n",
      "TF-IDF :  1.5935258173611535  , title :  \"화사한 꽃밭\" D-1 아이즈원 데뷔 앨범 커버이미지 공개\n",
      "TF-IDF :  1.7525811498216408  , title :  '나인룸' 김희선, 완성도 높이는 디테일 연기 장인\n",
      "TF-IDF :  1.918866097697512  , title :  \"육아까지 완벽\"…'슈돌' 만능돌 민호X시안 '최강 꿀케미'\n",
      "TF-IDF :  1.4739880185705134  , title :  [강병철의 셀럽앤카]⑨이효리 덕에 뜬 박스카 '큐브'···출시 후 빛 못 본 이유\n",
      "TF-IDF :  1.7555456871929438  , title :  박근혜 생가터 사라지고, 전두환 나무 죽고···TK 가보니\n",
      "TF-IDF :  1.7967944800713673  , title :  수상하게 붙은 北-파나마 선박, 호스 연결해 석유 옮기고 있었다\n",
      "TF-IDF :  1.1267532582959137  , title :  복지부 감사 앞두고 창원 어린이집 원장 투신 사망\n",
      "TF-IDF :  1.6960633164532348  , title :  NLL서 절반으로 줄어든 중국어선…고속보트 등 변종조업도\n",
      "TF-IDF :  1.191192419594527  , title :  “음주단속 0.05%→0.03%, 2회 이상 적발시 면허취소” 경찰, 처벌 강화\n",
      "TF-IDF :  1.294009940102311  , title :  겸재 정선의 금강산 그림 7점, 경북 시골서 발견된 사연\n",
      "TF-IDF :  1.4081521681023563  , title :  [이거 어때?] 빨래 개기 귀찮은 사람들을 위한 스마트 옷장\n",
      "TF-IDF :  2.227085081596386  , title :  수학 가르친다며 여학생 허벅지에 분필로 낙서한 선생님\n",
      "TF-IDF :  1.1700384679034292  , title :  어린이집 원장 투신 사망…유족 “감사 통보 받고 힘들어해”\n",
      "TF-IDF :  1.1906153878726993  , title :  [스타일 이슈] 올해 할로윈 분장, 왜 이렇게 공포스러울까\n",
      "TF-IDF :  1.631941038766607  , title :  \"장자연 립스틱 통에 있던 명함은 압수수색 때부터 누락\"\n",
      "TF-IDF :  1.6878724357353359  , title :  \"사랑해요, 영원히요\" 80세 할아버지의 50년 만의 프러포즈\n",
      "TF-IDF :  1.9146991576805665  , title :  지구상 100마리 남은 뿔제비갈매기, 세계 최초 산란 포착\n",
      "TF-IDF :  1.4275112282065479  , title :  석달 넘게 대기하는데…공공기관 직장어린이집 정원 20% 남아\n",
      "TF-IDF :  1.7122893107548773  , title :  이재명의 한탄 “촛불 정부의 경찰 맞나…국민 법정 맡긴다”\n",
      "TF-IDF :  1.2638564001124426  , title :  ‘병원 1인 1개소’논란 속 MSO로 치과의원 11곳 운영한 의사 등 검거\n",
      "TF-IDF :  1.7998381903415475  , title :  SNS서 핫하다는 ‘반려견 하늘샷’…절미 언니도 화났다?\n",
      "TF-IDF :  1.1308371911523356  , title :  어린이집 ‘보육료 유용’ 처벌하자…뒤늦게 법개정 나선 복지부\n",
      "TF-IDF :  1.6447836075049558  , title :  미세먼지 길목에 숲 조성해 미세먼지 잡는다…‘태양의 숲’\n",
      "TF-IDF :  1.52658314661963  , title :  ‘여야4당+조국’ 힘 실은 특별재판부…넘어야 할 5가지 난관\n",
      "TF-IDF :  1.3039502388541786  , title :  “열흘 일하고 1700만원…” 서류 꾸며 보조금 타낸 어린이집 대표·원장\n",
      "TF-IDF :  1.1220848348222163  , title :  의사협회 '의료사고 의사' 구속에 \"파업 고려\"\n",
      "TF-IDF :  1.4272014761987672  , title :  수감복 입은 임종헌, 입다물기 전략으로…양승태로 향하는 수사 길목 막아서기\n",
      "TF-IDF :  1.6522104871078882  , title :  이재명은 경찰, 김경수는 법원…당선 후 첫 출석하는 도지사들\n",
      "TF-IDF :  1.4255974906765212  , title :  재판거래 의혹 핵심 ‘일제 강제징용’ 소송, 김명수 대법원 판단은?\n",
      "TF-IDF :  1.650011033169716  , title :  “역사교과서 수록된 독립·근현대사 인물 중 여성 7.7% 불과”\n",
      "TF-IDF :  1.4391339632825644  , title :  ‘사이판 고립’ 한국민 600여명 오늘, 귀국 예정…“29일까지 모두 수송”\n",
      "TF-IDF :  1.1928164567217028  , title :  중국 공무원에 2억원 로비한 ‘관시’…무죄 판결 받은 이유\n",
      "TF-IDF :  1.3844161390689877  , title :  인천 야적장서 컨테이너 전도돼 1명 사망…“강풍 등 원인 추정”\n"
     ]
    }
   ],
   "source": [
    "# 5. 기사 제목 TF-IDF 계산\n",
    "tf_idf_title = []\n",
    "tf_idf_mean = []\n",
    "tag_list = [a['tags'] for a in noun_text]\n",
    "for i, nouns in enumerate(noun_title):\n",
    "    tfs = [TF(req, noun_text[i]['num_most_frequent'], noun_text[i]['tags']) for req in nouns]\n",
    "    idfs = [IDF(req, tag_list) for req in nouns]\n",
    "    _tfidf = [tfs[j] * idfs[j] for j,n in enumerate(nouns)]\n",
    "    tf_idf_title.append(_tfidf)\n",
    "    tf_idf_mean.append(np.mean(_tfidf))\n",
    "\n",
    "print(\"===[TF-IDF values]==========================================================================================\")\n",
    "print(tf_idf_title)\n",
    "\n",
    "print(\"===[TF-IDF mean]==========================================================================================\")\n",
    "for i,e in enumerate(tf_idf_mean):\n",
    "     print(\"TF-IDF : \",e,\" , title : \",article_list[i]['title'])"
   ]
  },
  {
   "cell_type": "code",
   "execution_count": 16,
   "metadata": {
    "collapsed": true
   },
   "outputs": [
    {
     "name": "stdout",
     "output_type": "stream",
     "text": [
      "===[Word dictionary]==========================================================================================\n",
      "{'이민기': 1, '씨': 431, '상대': 2, '분위기': 3, '수급': 282, '더': 4, '의': 283, '장자연': 284, '복': 5, '의혹': 6, '제외': 7, '사이판': 286, '사': 287, '우승': 436, '우리': 8, '공공기관': 451, '장동민': 9, '첫': 10, '미모': 290, '경북': 11, '아빠': 12, '득점': 291, '힐': 13, '속': 14, '체험': 15, '신부': 16, '제이': 17, '보육료': 516, '것': 534, '강제': 351, '준비': 199, '핑크': 18, '못': 19, '스릴러': 408, '관광객': 295, '하우스': 53, '형님': 492, '오늘': 441, '시인': 297, '의료': 329, '홈런': 298, '징계': 20, '감사': 22, '회': 300, '역전': 301, '케미': 23, '공포': 303, '역사': 24, '팬': 25, '축구': 305, '여명': 28, '귀국': 29, '유족': 306, '뿔': 150, '방향': 333, '자매': 30, '세계': 307, '숨바꼭질': 31, '샌즈': 331, '모비스': 32, '안이': 308, '발생': 309, '연결': 310, '세': 34, '이벤트': 311, '시청자': 312, '강병철': 35, '보트': 313, '전략': 314, '회장': 37, '골': 38, '찬스': 153, '연기': 316, '괴물': 39, '참가': 317, '요원': 40, '켈리': 288, '중국': 505, '시티': 319, '시리즈': 101, '조사': 41, '지사': 320, '김규민': 42, '손병호': 289, '년': 43, '평가': 44, '판결': 321, '레인보우': 45, '이닝': 46, '최혜용': 322, '송승헌': 323, '발전': 47, '두': 324, '장애인': 526, '생가': 326, '축음기': 458, '코너': 378, '명': 327, '방지': 477, '룸': 363, '로비': 49, '뷰티 인사이드': 50, '패배': 439, '엄현경': 51, '석유': 54, '병살타': 328, '인터뷰': 403, '인천': 55, '김연아': 56, '태극기': 332, '공개': 57, '애정': 59, '처벌': 60, '민호': 61, '현대모비스': 334, '송성문': 478, '이미지': 62, '법': 293, '반전': 63, '환': 336, '불법': 337, '여행지': 52, '전말': 456, '실수': 64, '서현진': 89, '고': 338, '열기': 65, '군사': 340, '기관': 341, '유세윤': 67, '박준형': 68, '유용': 342, '위': 343, '안': 344, '위험': 345, '발견': 346, '플레이오프': 414, '수록': 462, '중심': 347, '징용': 69, '개인': 70, '올해': 71, '평판': 72, '전두환': 349, '틴': 73, '혼자': 74, '연속': 350, '포토': 75, '벼랑': 77, '의원': 418, '조업': 352, '박병호': 206, '경기': 81, '줄': 354, '수학': 355, '대회': 82, '조국': 358, '샷': 339, '세탁물': 315, '슈퍼맨': 360, '살': 148, '미니': 83, '손가락': 84, '의협': 66, '산다': 85, '선수': 86, '재판': 87, '허위': 88, '화보': 90, '쿼터': 428, '수사': 109, '채': 417, '박성국': 296, '할로윈': 365, '김연지': 366, '해커': 367, '섹시': 508, '링': 368, '정상': 369, '별자리': 370, '김민성': 387, '입': 92, '차전': 509, '언니': 371, '패키지': 372, '유상무': 388, '유괴': 93, '척': 373, '검찰': 353, '내': 94, '분장': 374, '메달': 375, '김희선': 299, '타': 95, '번식': 96, '주간': 97, '런': 98, '예정': 99, '캠프': 376, '때': 364, '원': 102, '하차': 377, '사연': 379, '송창의': 103, '돌': 80, '초': 380, '넥센': 104, '불명예': 381, '여성': 382, '단체': 21, '피겨': 105, '트와이스': 384, '영웅': 107, '대결': 385, '앵콜': 108, '연구소': 386, '코르': 110, '뜻밖': 111, '반려견': 389, '수': 512, '리바운드': 390, '투신': 302, '호날두': 112, '가터': 469, '견': 113, '면허': 114, '운세': 424, '소름': 115, '복면': 116, '북한': 395, '슬라이딩': 117, '타자': 118, '고려': 119, '행사': 120, '법원': 391, '독립운동가': 398, 'IS': 399, '연패': 121, '사진': 514, '메이크업': 304, '장정석': 400, '대표': 401, '김주혁': 213, '미세먼지': 123, '선두': 124, '자료': 404, '조성': 397, '그': 503, '사망': 405, '날': 410, '협회': 125, '출석': 406, '웃음': 126, '판단': 407, '아이유': 127, '이유리': 128, '만': 146, '음주운전': 130, '누락': 409, '장현수': 131, '월드시리즈': 411, '챔프': 531, '데뷔': 412, '치클': 133, '구속': 134, '여야': 413, '질주': 294, '보스턴': 136, '장애인스포츠': 137, '박결': 402, '현장': 138, '치마': 139, '사단': 141, 'TK': 254, '교과서': 416, '정원': 530, '임': 142, '예능': 143, '흐름': 122, '드로이드': 144, '구단주': 145, '벤치': 147, '가지': 149, '홀': 292, '피': 172, '남자': 420, '후반': 151, '생각': 421, '일': 422, '감독': 152, '누가': 362, '퀴즈': 154, '립스틱': 76, '카': 423, '홍현희': 155, '그림': 156, '상처': 33, '여행': 157, '차태현': 158, '사랑해요': 426, '이상': 427, '나무': 159, '더파': 429, '지수': 160, '불펜': 161, '강판': 162, '당': 163, '촛불': 164, '이재명': 432, '말': 165, '대통령': 434, '판사': 440, '부모': 166, '통보': 435, '길일': 453, '출전': 167, '10월 28일': 437, '논란': 79, '양승태': 457, '이준석': 168, '무한도전': 218, '선발': 169, '점': 170, '방': 171, '제비갈매기': 438, '건': 173, '아이콘': 78, '루': 174, '서류': 520, '정선': 175, '이유': 176, '이': 177, '직장': 178, '헬기': 179, '앨범': 180, '패': 181, '핼러윈': 466, '위기': 442, '가을': 443, '설치': 359, '하객': 182, '용병': 445, '대법원': 183, '체육': 184, '국민': 185, '박정권': 186, '사건': 433, '하늘': 187, '겸재': 188, '일요일': 189, '정은표': 525, '업무': 447, '숲': 487, '안보': 446, '득점권': 190, '납치': 191, '할아버지': 448, '중': 449, '시안': 192, '원장': 450, '중앙': 194, '분석': 195, '피플': 196, '장': 452, '한화': 100, '플레이어': 356, '개': 454, '장인': 285, '영사기': 197, '김종태': 455, '힘': 222, '실점': 198, '투수': 200, '차준': 330, '그랑프리': 201, '거래': 202, '선생님': 493, '다섯': 203, '나': 204, '독설': 205, '공무원': 459, '키': 460, '브랜드': 461, '대장암': 361, '승': 463, '파나마': 318, '끝': 207, '유벤투스': 58, '단속': 209, '학대': 210, '왕': 464, '활동': 465, '일보': 430, '투데이': 467, '김병만': 468, '남편': 444, '제압': 470, '여학생': 129, '태양': 212, '이후': 211, '일본': 472, '힙합': 281, '특별': 473, '당시': 214, '타석': 132, '리뷰': 474, '집': 215, '복지부': 475, '비밀': 91, '곳': 476, '사고': 216, '벤': 217, '증빙': 208, '멀티': 219, '결방': 527, '바비': 106, '포착': 220, '주의': 221, '화': 227, '봉사활동': 223, '육아': 479, '결혼식': 224, '단독': 480, '유격수': 225, '선박': 226, '경영': 228, '흔적': 229, '띠': 529, '연승': 230, '장씨': 425, '달': 481, '삼촌': 482, '포스트시즌': 483, '무패': 232, '명단': 484, '어린이집': 231, '고립': 485, '터': 267, '비판': 394, '주': 268, '회사': 396, '후속': 233, '호스': 488, '부': 489, '프러포즈': 490, '출시': 491, '추정': 234, '의료법': 235, '장화': 236, '미': 494, '이슈': 135, '참석': 495, '후': 496, '옷장': 497, '방송': 237, '산도': 238, '흉터': 239, '다저스': 471, '개발도상국': 498, '마리': 499, '운영': 240, '전': 500, '호주': 241, '오윤아': 501, '박근혜': 242, '개정': 502, '대상': 419, '트럼프': 274, '부부': 504, '항공': 325, '정체': 335, '압수수색': 506, '보조금': 243, '침묵': 507, '인정': 244, '금전': 510, '출연': 511, '기용': 415, '빨래': 245, '스마트': 246, '이번': 513, '뒤': 247, '김성현': 248, '다리': 280, '경찰': 36, '건강': 249, '김': 250, '국회': 515, '차': 140, '국학': 357, '현지': 392, '인기': 348, '당신': 251, '등판': 252, '작품': 517, '크리스탈': 253, '박': 533, '개최': 518, '사람': 26, '분필': 519, '어선': 393, '나인': 521, '구구단': 522, '정부': 255, '기준': 523, '번': 256, '종영': 524, '아이': 257, '조현영': 258, '투어': 193, '대기': 259, '허벅지': 383, '개발': 260, '큐브': 261, '레스터': 48, '근현대사': 262, '취소': 263, '티저': 264, '아우라': 528, '할머니': 265, '에콰도르': 266, '병원': 271, '결혼': 269, '금강산': 270, '진실': 272, '등': 273, '유선호': 275, '추락': 532, '관시': 276, '변화': 486, '사랑한다면 이들처럼': 277, '인물': 27, '조작': 535, '차장': 536, '의사': 538, '이경영': 278, '라며': 537, '로버츠': 279}\n"
     ]
    }
   ],
   "source": [
    "\n",
    "# 6. 제목 tf-idf top5와 문서안의 tf top5의 단어사전 만듬\n",
    "wordset = set([])\n",
    "for n, nounlist in enumerate(noun_title):\n",
    "    for w in np.argsort(np.array(tf_idf_title[n]))[:5] :\n",
    "        wordset.add(nounlist[w])\n",
    "\n",
    "for doc in noun_text:\n",
    "    for tags in doc['tags'][:5]:\n",
    "        wordset.add(tags['tag'])\n",
    "\n",
    "word_dict = { t : (i+1) for i,t in enumerate(wordset) }\n",
    "print(\"===[Word dictionary]==========================================================================================\")\n",
    "print(word_dict)\n"
   ]
  },
  {
   "cell_type": "code",
   "execution_count": 17,
   "metadata": {
    "collapsed": true
   },
   "outputs": [
    {
     "name": "stdout",
     "output_type": "stream",
     "text": [
      "===[Word vector : title]==========================================================================================\n",
      "[[79, 394, 279, 274, 445], [465, 404, 535, 305, 244], [449, 145, 179, 532, 216], [222, 420, 443, 186, 0], [181, 207, 463, 77, 252], [118, 452, 436, 423, 39], [350, 219, 232, 38, 112], [496, 176, 56, 375, 332], [104, 272, 248, 84, 331], [414, 368, 509, 217, 133], [327, 172, 215, 369, 64], [181, 146, 436, 301, 402], [211, 146, 140, 56, 105], [362, 95, 268, 30, 30], [288, 198, 176, 300, 162], [414, 230, 298, 470, 0], [347, 104, 256, 415, 478], [152, 173, 122, 368, 400], [498, 518, 260, 376, 526], [181, 101, 207, 77, 161], [465, 88, 535, 131, 297], [169, 167, 107, 107, 186], [500, 44, 7, 241, 484], [256, 101, 117, 331, 345], [356, 206, 507, 381, 460], [500, 104, 288, 443, 46], [165, 176, 443, 186, 196], [454, 104, 190, 328, 121], [124, 439, 480, 294, 334], [152, 207, 298, 77, 403], [496, 533, 176, 35, 491], [441, 189, 529, 424, 424], [135, 442, 419, 377, 127], [138, 361, 366, 388, 269], [424, 189, 441, 370, 43], [138, 354, 366, 388, 269], [433, 456, 31, 51, 191], [424, 97, 43, 437, 43], [273, 257, 528, 78, 205], [1, 89, 277, 50, 0], [63, 45, 116, 258, 464], [269, 366, 388, 467, 399], [74, 269, 224, 495, 9], [364, 422, 52, 229, 533], [171, 486, 392, 372, 474], [90, 501, 139, 508, 494], [511, 17, 444, 155, 468], [135, 513, 143, 348, 79], [25, 120, 408, 53, 65], [26, 335, 455, 356, 115], [75, 70, 57, 21, 522], [512, 343, 343, 343, 18], [514, 57, 126, 366, 388], [417, 83, 280, 90, 253], [492, 108, 127, 474, 399], [283, 233, 524, 218, 111], [57, 70, 62, 384, 264], [57, 102, 412, 180, 62], [316, 285, 363, 299, 521], [23, 80, 192, 61, 479], [496, 533, 176, 35, 491], [242, 159, 349, 469, 254], [310, 488, 226, 318, 54], [231, 450, 475, 22, 302], [273, 313, 505, 352, 393], [427, 300, 60, 114, 263], [170, 346, 379, 175, 11], [454, 26, 246, 245, 497], [493, 355, 129, 383, 519], [450, 405, 306, 435, 302], [135, 71, 365, 303, 374], [364, 409, 506, 284, 76], [34, 490, 448, 426, 43], [220, 307, 499, 150, 438], [481, 341, 231, 259, 178], [255, 185, 36, 164, 432], [273, 14, 79, 476, 102], [371, 227, 113, 339, 187], [293, 502, 342, 231, 475], [123, 397, 123, 212, 487], [222, 149, 413, 163, 358], [422, 401, 231, 520, 243], [216, 125, 134, 329, 119], [314, 5, 92, 109, 457], [496, 36, 391, 406, 432], [6, 407, 87, 202, 351], [449, 462, 262, 27, 24], [422, 441, 99, 28, 485], [321, 102, 176, 505, 276], [273, 55, 327, 234, 405]]\n",
      "===[Word vector : text]==========================================================================================\n",
      "[[471, 200, 152, 170, 411], [223, 184, 418, 40, 208], [216, 48, 319, 145, 309], [186, 443, 165, 298, 170], [471, 136, 256, 287, 298], [531, 82, 193, 489, 95], [112, 38, 81, 58, 151], [170, 330, 336, 332, 82], [81, 331, 147, 338, 368], [174, 104, 248, 147, 368], [292, 296, 193, 436, 168], [322, 95, 4, 292, 436], [170, 330, 336, 82, 201], [110, 30, 436, 82, 429], [446, 340, 386, 194, 430], [298, 46, 104, 174, 287], [478, 152, 367, 387, 104], [104, 165, 298, 174, 380], [376, 317, 137, 266, 273], [247, 471, 287, 298, 174], [223, 131, 418, 20, 515], [186, 338, 81, 152, 13], [131, 223, 125, 184, 152], [147, 174, 104, 81, 225], [132, 206, 81, 2, 287], [46, 288, 81, 483, 181], [186, 81, 298, 454, 165], [104, 153, 328, 42, 287], [32, 291, 428, 86, 390], [81, 86, 298, 199, 512], [512, 261, 273, 423, 333], [534, 424, 249, 59, 510], [127, 4, 419, 204, 517], [338, 269, 388, 366, 67], [534, 441, 410, 512, 251], [269, 388, 344, 16, 366], [128, 51, 103, 31, 93], [534, 510, 59, 453, 221], [444, 281, 203, 493, 106], [89, 26, 324, 1, 91], [197, 458, 421, 464, 385], [388, 26, 366, 269, 504], [388, 9, 67, 366, 269], [213, 158, 533, 312, 193], [68, 275, 157, 372, 148], [446, 340, 386, 194, 430], [316, 155, 17, 468, 378], [79, 74, 85, 204, 527], [10, 15, 154, 120, 53], [323, 525, 26, 503, 537], [522, 290, 62, 3, 21], [160, 461, 195, 72, 343], [388, 366, 224, 273, 182], [446, 340, 386, 194, 430], [127, 421, 338, 364, 94], [111, 218, 233, 237, 73], [446, 340, 386, 194, 430], [446, 340, 386, 194, 430], [299, 433, 289, 236, 278], [482, 61, 308, 12, 360], [512, 261, 273, 423, 333], [500, 434, 326, 327, 267], [395, 226, 514, 336, 337], [446, 340, 386, 194, 430], [505, 393, 337, 373, 352], [130, 36, 209, 523, 216], [156, 188, 357, 170, 270], [497, 98, 245, 144, 315], [446, 340, 386, 194, 430], [231, 431, 419, 36, 240], [466, 304, 374, 239, 33], [425, 141, 506, 214, 177], [448, 19, 265, 8, 311], [438, 150, 96, 499, 238], [231, 451, 530, 418, 476], [177, 36, 320, 338, 6], [271, 228, 329, 235, 512], [187, 339, 389, 514, 210], [516, 231, 166, 243, 273], [487, 212, 100, 47, 477], [87, 473, 489, 433, 359], [431, 282, 231, 243, 450], [66, 538, 37, 338, 405], [500, 536, 142, 353, 440], [320, 177, 41, 250, 6], [69, 351, 183, 321, 472], [327, 382, 398, 416, 24], [286, 295, 29, 177, 325], [505, 396, 447, 49, 459], [446, 340, 386, 194, 430]]\n"
     ]
    }
   ],
   "source": [
    "# 7. 제목 tf-idf top5와 문서안의 tf top5를 벡터로 표시\n",
    "title_vec = []\n",
    "for n, nounlist in enumerate(noun_title):\n",
    "    _tmp = []\n",
    "    for w in np.argsort(np.array(tf_idf_title[n]))[:5] :\n",
    "        _tmp.append(word_dict[nounlist[w]])\n",
    "    while len(_tmp) < 5:\n",
    "        _tmp.append(0)\n",
    "    title_vec.append(_tmp)\n",
    "print(\"===[Word vector : title]==========================================================================================\")\n",
    "print(title_vec)\n",
    "\n",
    "text_vec = []\n",
    "for doc in noun_text:\n",
    "    _tmp = []\n",
    "    for tags in doc['tags'][:5]:\n",
    "        _tmp.append(word_dict[tags['tag']])\n",
    "    text_vec.append(_tmp)\n",
    "print(\"===[Word vector : text]==========================================================================================\")\n",
    "print(text_vec)\n"
   ]
  },
  {
   "cell_type": "code",
   "execution_count": 18,
   "metadata": {
    "collapsed": true
   },
   "outputs": [
    {
     "name": "stdout",
     "output_type": "stream",
     "text": [
      "===[cosine similarities]==========================================================================================\n",
      "[0.7798837517576797, 0.9328443673041937, 0.7716549600272621, 0.8592112031606849, 0.794851092928134, 0.6784230744585701, 0.8097472126215994, 0.7082873448285695, 0.8933540512513954, 0.7843373119199372, 0.9664603567362667, 0.7679581001068876, 0.9103472460767658, 0.6026900634755926, 0.9108618321202863, 0.7292016164329012, 0.8501359965973685, 0.8965232770649266, 0.9889295437093775, 0.8489207030861788, 0.8848305971263593, 0.8075796788201802, 0.7044451266601084, 0.879914830145652, 0.7713372799790672, 0.6780502164325031, 0.8516372622530838, 0.5973983850455629, 0.9435629179403634, 0.9420798462596506, 0.8291868081424435, 0.8305353716845278, 0.6438385410019697, 0.9085354205417842, 0.9454729521072196, 0.8297160459658559, 0.7746582445317203, 0.8752925059525524, 0.6979798572883765, 0.8947006791587476, 0.7796235332951206, 0.8695046601206158, 0.6255832492061518, 0.6142184688951633, 0.9120091690500083, 0.7859195152181807, 0.7210943788621873, 0.4550930311459055, 0.8469365348065956, 0.6709883466176765, 0.23008655596609331, 0.6817074127457406, 0.8361601883349412, 0.9408361246688746, 0.6662133929385816, 0.9202813363436785, 0.6587048257117931, 0.7231528717673619, 0.9335031179260755, 0.695087829442045, 0.8291868081424435, 0.8819630813198189, 0.8110783408951733, 0.9145679101651738, 0.9406543383351524, 0.5279494257911427, 0.8497492426748156, 0.9591307000917121, 0.9274471161437462, 0.8355959634015099, 0.688787050104921, 0.926873918211545, 0.3336026700946537, 0.6523192051208014, 0.8471509538980065, 0.4336351270711635, 0.6384860878057442, 0.8719957642283842, 0.8582036454743306, 0.8049239545741134, 0.8784965360396719, 0.9025578235511834, 0.7212484493335344, 0.7695378569224369, 0.7394184782450555, 0.9613196233914822, 0.8249853705939352, 0.9559152739612292, 0.6907121841220828, 0.9244133315603722]\n"
     ]
    }
   ],
   "source": [
    "# 8. Cosine similarity 계산\n",
    "cosine_similarities = [cos_sim(t,text_vec[i]) for i,t in enumerate(title_vec)]\n",
    "print(\"===[cosine similarities]==========================================================================================\")\n",
    "print(cosine_similarities)\n"
   ]
  },
  {
   "cell_type": "code",
   "execution_count": 19,
   "metadata": {},
   "outputs": [
    {
     "name": "stdout",
     "output_type": "stream",
     "text": [
      "\n",
      "===[Top3 : Largest TF-IDF mean]==========================================================================================\n",
      "( 1 ) :  2.4771212547196626  , title :  [화보] 오윤아, 치마 걷어 올리며...'섹시미 폭발'\n",
      "\t link :  http://article.joins.com/news/article/article.asp?total_id=23072597&cloc=rss|most_view|ent_sports\n",
      "( 2 ) :  2.227085081596386  , title :  수학 가르친다며 여학생 허벅지에 분필로 낙서한 선생님\n",
      "\t link :  http://article.joins.com/news/article/article.asp?total_id=23071408&cloc=rss|most_view|society\n",
      "( 3 ) :  2.1544083298410843  , title :  \"사랑한다면 이들처럼\" '뷰티 인사이드' 서현진♥이민기, 물오른 꽁냥꽁냥\n",
      "\t link :  http://article.joins.com/news/article/article.asp?total_id=23072205&cloc=rss|most_view|ent_sports\n",
      "===[Top3 : Smallest TF-IDF mean]==========================================================================================\n",
      "( 1 ) :  0.922571052630925  , title :  '가을 남자' 박정권 \"힘 빼고 즐기면 됩니다\"\n",
      "\t link :  http://article.joins.com/news/article/article.asp?total_id=23071306&cloc=rss|most_view|sports\n",
      "( 2 ) :  0.9730057759438733  , title :  유상무 결혼식 참석한 장동민 \"혼자 남았다…결혼 너무 하고파\"\n",
      "\t link :  http://article.joins.com/news/article/article.asp?total_id=23071683&cloc=rss|most_view|ent_sports\n",
      "( 3 ) :  1.05038972224616  , title :  다저스 1승3패 벼랑 끝...류현진 등판 불투명\n",
      "\t link :  http://article.joins.com/news/article/article.asp?total_id=23071734&cloc=rss|most_view|sports\n"
     ]
    }
   ],
   "source": [
    "# 9. TF-IDF 평균이 제일 작은거 큰거 출력\n",
    "idx_tfidf = np.argsort(np.array(tf_idf_mean))\n",
    "\n",
    "print(\"\\n===[Top3 : Largest TF-IDF mean]==========================================================================================\")\n",
    "for n,i in enumerate(np.flipud(idx_tfidf)[:3]) : \n",
    "    print(\"(\",n+1,\") : \",tf_idf_mean[i],\" , title : \",article_list[i]['title'])\n",
    "    print(\"\\t link : \",article_list[i]['link'])\n",
    "\n",
    "print(\"===[Top3 : Smallest TF-IDF mean]==========================================================================================\")\n",
    "for n,i in enumerate(idx_tfidf[:3]) :\n",
    "    print(\"(\",n+1,\") : \",tf_idf_mean[i],\" , title : \",article_list[i]['title'])\n",
    "    print(\"\\t link : \",article_list[i]['link'])\n"
   ]
  },
  {
   "cell_type": "code",
   "execution_count": 20,
   "metadata": {},
   "outputs": [
    {
     "name": "stdout",
     "output_type": "stream",
     "text": [
      "\n",
      "===[Top3 : Largest Cosine Similarity]==========================================================================================\n",
      "( 1 ) :  0.9889295437093775  , title :  장애인체육회, 개발도상국 초청 장애인스포츠 개발캠프 개최\n",
      "\t link :  http://article.joins.com/news/article/article.asp?total_id=23071939&cloc=rss|most_view|sports\n",
      "( 2 ) :  0.9664603567362667  , title :  5명 연장에 실수 연발... 집 가려다 피말리게 'KPGA 첫 정상' 오른 박성국\n",
      "\t link :  http://article.joins.com/news/article/article.asp?total_id=23072309&cloc=rss|most_view|sports\n",
      "( 3 ) :  0.9613196233914822  , title :  재판거래 의혹 핵심 ‘일제 강제징용’ 소송, 김명수 대법원 판단은?\n",
      "\t link :  http://article.joins.com/news/article/article.asp?total_id=23071378&cloc=rss|most_view|society\n",
      "===[Top3 : Smallest Cosine Similarity]==========================================================================================\n",
      "( 1 ) :  0.23008655596609331  , title :  \"예쁜애X예쁜애\" 구구단 개인+단체 개성만점 오피셜 포토 공개\n",
      "\t link :  http://article.joins.com/news/article/article.asp?total_id=23071505&cloc=rss|most_view|ent_sports\n",
      "( 2 ) :  0.3336026700946537  , title :  \"사랑해요, 영원히요\" 80세 할아버지의 50년 만의 프러포즈\n",
      "\t link :  http://article.joins.com/news/article/article.asp?total_id=23071954&cloc=rss|most_view|society\n",
      "( 3 ) :  0.4336351270711635  , title :  이재명의 한탄 “촛불 정부의 경찰 맞나…국민 법정 맡긴다”\n",
      "\t link :  http://article.joins.com/news/article/article.asp?total_id=23072475&cloc=rss|most_view|society\n"
     ]
    }
   ],
   "source": [
    "# 10. Cosine-Similarity 제일 작은거 큰거 출력\n",
    "idx_tfidf = np.argsort(np.array(cosine_similarities))\n",
    "\n",
    "print(\"\\n===[Top3 : Largest Cosine Similarity]==========================================================================================\")\n",
    "for n,i in enumerate(np.flipud(idx_tfidf)[:3]) : \n",
    "    print(\"(\",n+1,\") : \",cosine_similarities[i],\" , title : \",article_list[i]['title'])\n",
    "    print(\"\\t link : \",article_list[i]['link'])\n",
    "\n",
    "print(\"===[Top3 : Smallest Cosine Similarity]==========================================================================================\")\n",
    "for n,i in enumerate(idx_tfidf[:3]) :\n",
    "    print(\"(\",n+1,\") : \",cosine_similarities[i],\" , title : \",article_list[i]['title'])\n",
    "    print(\"\\t link : \",article_list[i]['link'])\n"
   ]
  },
  {
   "cell_type": "code",
   "execution_count": null,
   "metadata": {},
   "outputs": [],
   "source": []
  }
 ],
 "metadata": {
  "kernelspec": {
   "display_name": "Python_TF",
   "language": "python",
   "name": "tf"
  },
  "language_info": {
   "codemirror_mode": {
    "name": "ipython",
    "version": 3
   },
   "file_extension": ".py",
   "mimetype": "text/x-python",
   "name": "python",
   "nbconvert_exporter": "python",
   "pygments_lexer": "ipython3",
   "version": "3.5.4"
  }
 },
 "nbformat": 4,
 "nbformat_minor": 2
}
